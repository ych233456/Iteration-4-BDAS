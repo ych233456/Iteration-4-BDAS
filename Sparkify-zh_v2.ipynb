{
 "cells": [
  {
   "cell_type": "code",
   "execution_count": 1,
   "metadata": {},
   "outputs": [],
   "source": [
    "# import libraries\n",
    "from pyspark.sql import SparkSession\n",
    "from pyspark.sql.functions import avg, col, concat, desc, explode, lit, min, max, split, udf\n",
    "from pyspark.sql.types import IntegerType\n",
    "\n",
    "from pyspark.ml import Pipeline\n",
    "from pyspark.ml.classification import LogisticRegression\n",
    "from pyspark.ml.evaluation import MulticlassClassificationEvaluator\n",
    "from pyspark.ml.classification import LogisticRegression, GBTClassifier\n",
    "from pyspark.ml.feature import CountVectorizer, IDF, Normalizer, RegexTokenizer, StandardScaler, StopWordsRemover, StringIndexer, VectorAssembler\n",
    "from pyspark.ml.tuning import CrossValidator, ParamGridBuilder\n",
    "from pyspark.ml.classification import DecisionTreeClassifier, RandomForestClassifier\n",
    "import datetime\n",
    "\n",
    "import re"
   ]
  },
  {
   "cell_type": "code",
   "execution_count": 2,
   "metadata": {},
   "outputs": [],
   "source": [
    "import re\n",
    "import datetime\n",
    "import matplotlib.pyplot as plt\n",
    "import pandas as pd\n",
    "import seaborn as sns\n",
    "%matplotlib inline"
   ]
  },
  {
   "cell_type": "code",
   "execution_count": 3,
   "metadata": {},
   "outputs": [],
   "source": [
    "spark = SparkSession.builder \\\n",
    "    .appName(\"Sparkify\") \\\n",
    ".getOrCreate()"
   ]
  },
  {
   "cell_type": "code",
   "execution_count": 4,
   "metadata": {},
   "outputs": [
    {
     "data": {
      "text/html": [
       "\n",
       "            <div>\n",
       "                <p><b>SparkSession - in-memory</b></p>\n",
       "                \n",
       "        <div>\n",
       "            <p><b>SparkContext</b></p>\n",
       "\n",
       "            <p><a href=\"http://LAPTOP-I2JTRNU6:4040\">Spark UI</a></p>\n",
       "\n",
       "            <dl>\n",
       "              <dt>Version</dt>\n",
       "                <dd><code>v3.0.1</code></dd>\n",
       "              <dt>Master</dt>\n",
       "                <dd><code>local[*]</code></dd>\n",
       "              <dt>AppName</dt>\n",
       "                <dd><code>Sparkify</code></dd>\n",
       "            </dl>\n",
       "        </div>\n",
       "        \n",
       "            </div>\n",
       "        "
      ],
      "text/plain": [
       "<pyspark.sql.session.SparkSession at 0x2ab2d683208>"
      ]
     },
     "execution_count": 4,
     "metadata": {},
     "output_type": "execute_result"
    }
   ],
   "source": [
    "spark"
   ]
  },
  {
   "cell_type": "code",
   "execution_count": 5,
   "metadata": {},
   "outputs": [
    {
     "data": {
      "text/plain": [
       "DataFrame[artist: string, auth: string, firstName: string, gender: string, itemInSession: bigint, lastName: string, length: double, level: string, location: string, method: string, page: string, registration: bigint, sessionId: bigint, song: string, status: bigint, ts: bigint, userAgent: string, userId: string]"
      ]
     },
     "execution_count": 5,
     "metadata": {},
     "output_type": "execute_result"
    }
   ],
   "source": [
    "path = 'data/mini_sparkify_event_data.json'\n",
    "##path='data/sparkify_log_small.json'\n",
    "df = spark.read.json(path)\n",
    "df.persist()"
   ]
  },
  {
   "cell_type": "code",
   "execution_count": 6,
   "metadata": {},
   "outputs": [],
   "source": [
    "# path = 'medium-sparkify-event-data.json'\n",
    "# df = spark.read.json(path)\n",
    "# df.persist()"
   ]
  },
  {
   "cell_type": "markdown",
   "metadata": {},
   "source": [
    "# Load and clean data"
   ]
  },
  {
   "cell_type": "code",
   "execution_count": 7,
   "metadata": {},
   "outputs": [
    {
     "name": "stdout",
     "output_type": "stream",
     "text": [
      "+-------+-----------------+\n",
      "|summary|        sessionId|\n",
      "+-------+-----------------+\n",
      "|  count|           286500|\n",
      "|   mean|1041.526554973822|\n",
      "| stddev|726.7762634630807|\n",
      "|    min|                1|\n",
      "|    max|             2474|\n",
      "+-------+-----------------+\n",
      "\n"
     ]
    }
   ],
   "source": [
    "df.describe(\"sessionId\").show()"
   ]
  },
  {
   "cell_type": "code",
   "execution_count": 8,
   "metadata": {},
   "outputs": [
    {
     "name": "stdout",
     "output_type": "stream",
     "text": [
      "+------+-----+\n",
      "|userid|count|\n",
      "+------+-----+\n",
      "|    99|  614|\n",
      "|    98| 2891|\n",
      "|    97| 2404|\n",
      "|    96| 2176|\n",
      "|    95| 2091|\n",
      "|    94|  187|\n",
      "|    93|  815|\n",
      "|    92| 7230|\n",
      "|    91| 3014|\n",
      "|    90|   45|\n",
      "|     9| 3191|\n",
      "|    89|  801|\n",
      "|    88| 2465|\n",
      "|    87| 1003|\n",
      "|    86|  818|\n",
      "|    85| 4370|\n",
      "|    84|   97|\n",
      "|    83| 1496|\n",
      "|    82| 2049|\n",
      "|    81| 2335|\n",
      "+------+-----+\n",
      "only showing top 20 rows\n",
      "\n"
     ]
    }
   ],
   "source": [
    "df.groupby('userid').count().sort(desc('userid')).show()"
   ]
  },
  {
   "cell_type": "code",
   "execution_count": 9,
   "metadata": {},
   "outputs": [
    {
     "data": {
      "text/plain": [
       "286500"
      ]
     },
     "execution_count": 9,
     "metadata": {},
     "output_type": "execute_result"
    }
   ],
   "source": [
    "df.count()"
   ]
  },
  {
   "cell_type": "code",
   "execution_count": 10,
   "metadata": {},
   "outputs": [],
   "source": [
    "df_valid = df.dropna(how = \"any\", subset = [\"userId\", \"sessionId\"]) "
   ]
  },
  {
   "cell_type": "code",
   "execution_count": 11,
   "metadata": {},
   "outputs": [
    {
     "data": {
      "text/plain": [
       "286500"
      ]
     },
     "execution_count": 11,
     "metadata": {},
     "output_type": "execute_result"
    }
   ],
   "source": [
    "df_valid.count()"
   ]
  },
  {
   "cell_type": "code",
   "execution_count": 12,
   "metadata": {},
   "outputs": [
    {
     "data": {
      "text/plain": [
       "0"
      ]
     },
     "execution_count": 12,
     "metadata": {},
     "output_type": "execute_result"
    }
   ],
   "source": [
    "df_valid.filter(df_valid[\"sessionId\"] != \"\").count()"
   ]
  },
  {
   "cell_type": "code",
   "execution_count": 13,
   "metadata": {},
   "outputs": [
    {
     "data": {
      "text/plain": [
       "278154"
      ]
     },
     "execution_count": 13,
     "metadata": {},
     "output_type": "execute_result"
    }
   ],
   "source": [
    "df_valid.filter(df_valid[\"userId\"] != \"\").count()"
   ]
  },
  {
   "cell_type": "code",
   "execution_count": 14,
   "metadata": {},
   "outputs": [],
   "source": [
    "df = df_valid.filter(df_valid[\"userId\"] != \"\")"
   ]
  },
  {
   "cell_type": "markdown",
   "metadata": {},
   "source": [
    "# Exploratory data analysis\n",
    "When you work with full datasets, exploratory data analysis is done by loading small datasets and doing basic operations in Spark. In this Workspace, we've provided you with a small dataset that you can explore.\n",
    "\n",
    "### Defining Customer Churn\n",
    "\n",
    "After you've done your initial analysis, create a column of `Churn` as labels for the model. I recommend that you define customer churn using the `Cancellation Confirmation` event, which occurs on both paid and free customers. As a bonus quest, you can also dig into the `Downgrade` event.\n",
    "\n",
    "### Explore data\n",
    "Once you've defined churn, you can perform some exploratory data analysis to observe the behavior of retained and churn users. You can start by aggregating data from these two types of users to see how many times a particular action occurs or how much music is played over a fixed period of time."
   ]
  },
  {
   "cell_type": "code",
   "execution_count": 15,
   "metadata": {},
   "outputs": [
    {
     "name": "stdout",
     "output_type": "stream",
     "text": [
      "+--------------------+------+\n",
      "|                page| count|\n",
      "+--------------------+------+\n",
      "|Cancellation Conf...|    52|\n",
      "|              Cancel|    52|\n",
      "|    Submit Downgrade|    63|\n",
      "|      Submit Upgrade|   159|\n",
      "|               Error|   252|\n",
      "|       Save Settings|   310|\n",
      "|               About|   495|\n",
      "|             Upgrade|   499|\n",
      "|                Help|  1454|\n",
      "|            Settings|  1514|\n",
      "|           Downgrade|  2055|\n",
      "|         Thumbs Down|  2546|\n",
      "|              Logout|  3226|\n",
      "|         Roll Advert|  3933|\n",
      "|          Add Friend|  4277|\n",
      "|     Add to Playlist|  6526|\n",
      "|                Home| 10082|\n",
      "|           Thumbs Up| 12551|\n",
      "|            NextSong|228108|\n",
      "+--------------------+------+\n",
      "\n"
     ]
    }
   ],
   "source": [
    "df.groupby('page').count().sort('count').show()"
   ]
  },
  {
   "cell_type": "code",
   "execution_count": 16,
   "metadata": {},
   "outputs": [
    {
     "data": {
      "text/html": [
       "<div>\n",
       "<style scoped>\n",
       "    .dataframe tbody tr th:only-of-type {\n",
       "        vertical-align: middle;\n",
       "    }\n",
       "\n",
       "    .dataframe tbody tr th {\n",
       "        vertical-align: top;\n",
       "    }\n",
       "\n",
       "    .dataframe thead th {\n",
       "        text-align: right;\n",
       "    }\n",
       "</style>\n",
       "<table border=\"1\" class=\"dataframe\">\n",
       "  <thead>\n",
       "    <tr style=\"text-align: right;\">\n",
       "      <th></th>\n",
       "      <th>page</th>\n",
       "      <th>count</th>\n",
       "    </tr>\n",
       "  </thead>\n",
       "  <tbody>\n",
       "    <tr>\n",
       "      <th>0</th>\n",
       "      <td>Cancel</td>\n",
       "      <td>52</td>\n",
       "    </tr>\n",
       "    <tr>\n",
       "      <th>1</th>\n",
       "      <td>Cancellation Confirmation</td>\n",
       "      <td>52</td>\n",
       "    </tr>\n",
       "    <tr>\n",
       "      <th>2</th>\n",
       "      <td>Submit Downgrade</td>\n",
       "      <td>63</td>\n",
       "    </tr>\n",
       "    <tr>\n",
       "      <th>3</th>\n",
       "      <td>Submit Upgrade</td>\n",
       "      <td>159</td>\n",
       "    </tr>\n",
       "    <tr>\n",
       "      <th>4</th>\n",
       "      <td>Error</td>\n",
       "      <td>252</td>\n",
       "    </tr>\n",
       "    <tr>\n",
       "      <th>5</th>\n",
       "      <td>Save Settings</td>\n",
       "      <td>310</td>\n",
       "    </tr>\n",
       "    <tr>\n",
       "      <th>6</th>\n",
       "      <td>About</td>\n",
       "      <td>495</td>\n",
       "    </tr>\n",
       "    <tr>\n",
       "      <th>7</th>\n",
       "      <td>Upgrade</td>\n",
       "      <td>499</td>\n",
       "    </tr>\n",
       "    <tr>\n",
       "      <th>8</th>\n",
       "      <td>Help</td>\n",
       "      <td>1454</td>\n",
       "    </tr>\n",
       "    <tr>\n",
       "      <th>9</th>\n",
       "      <td>Settings</td>\n",
       "      <td>1514</td>\n",
       "    </tr>\n",
       "    <tr>\n",
       "      <th>10</th>\n",
       "      <td>Downgrade</td>\n",
       "      <td>2055</td>\n",
       "    </tr>\n",
       "    <tr>\n",
       "      <th>11</th>\n",
       "      <td>Thumbs Down</td>\n",
       "      <td>2546</td>\n",
       "    </tr>\n",
       "    <tr>\n",
       "      <th>12</th>\n",
       "      <td>Logout</td>\n",
       "      <td>3226</td>\n",
       "    </tr>\n",
       "    <tr>\n",
       "      <th>13</th>\n",
       "      <td>Roll Advert</td>\n",
       "      <td>3933</td>\n",
       "    </tr>\n",
       "    <tr>\n",
       "      <th>14</th>\n",
       "      <td>Add Friend</td>\n",
       "      <td>4277</td>\n",
       "    </tr>\n",
       "    <tr>\n",
       "      <th>15</th>\n",
       "      <td>Add to Playlist</td>\n",
       "      <td>6526</td>\n",
       "    </tr>\n",
       "    <tr>\n",
       "      <th>16</th>\n",
       "      <td>Home</td>\n",
       "      <td>10082</td>\n",
       "    </tr>\n",
       "    <tr>\n",
       "      <th>17</th>\n",
       "      <td>Thumbs Up</td>\n",
       "      <td>12551</td>\n",
       "    </tr>\n",
       "    <tr>\n",
       "      <th>18</th>\n",
       "      <td>NextSong</td>\n",
       "      <td>228108</td>\n",
       "    </tr>\n",
       "  </tbody>\n",
       "</table>\n",
       "</div>"
      ],
      "text/plain": [
       "                         page   count\n",
       "0                      Cancel      52\n",
       "1   Cancellation Confirmation      52\n",
       "2            Submit Downgrade      63\n",
       "3              Submit Upgrade     159\n",
       "4                       Error     252\n",
       "5               Save Settings     310\n",
       "6                       About     495\n",
       "7                     Upgrade     499\n",
       "8                        Help    1454\n",
       "9                    Settings    1514\n",
       "10                  Downgrade    2055\n",
       "11                Thumbs Down    2546\n",
       "12                     Logout    3226\n",
       "13                Roll Advert    3933\n",
       "14                 Add Friend    4277\n",
       "15            Add to Playlist    6526\n",
       "16                       Home   10082\n",
       "17                  Thumbs Up   12551\n",
       "18                   NextSong  228108"
      ]
     },
     "execution_count": 16,
     "metadata": {},
     "output_type": "execute_result"
    }
   ],
   "source": [
    "df.groupby('page').count().sort('count').toPandas()"
   ]
  },
  {
   "cell_type": "markdown",
   "metadata": {},
   "source": [
    "### *Add Churn*"
   ]
  },
  {
   "cell_type": "code",
   "execution_count": 25,
   "metadata": {},
   "outputs": [],
   "source": [
    "churn_users = df.filter(df.page==\"Cancellation Confirmation\").select(\"userId\").dropDuplicates()\n",
    "churn_users_list = [(row['userId']) for row in churn_users.collect()]\n",
    "df_withchurn = df.withColumn(\"churn\", df.userId.isin(churn_users_list).cast('int'))"
   ]
  },
  {
   "cell_type": "code",
   "execution_count": 74,
   "metadata": {},
   "outputs": [
    {
     "data": {
      "text/plain": [
       "array([[<AxesSubplot:title={'center':'itemInSession'}>,\n",
       "        <AxesSubplot:title={'center':'length'}>,\n",
       "        <AxesSubplot:title={'center':'registration'}>],\n",
       "       [<AxesSubplot:title={'center':'sessionId'}>,\n",
       "        <AxesSubplot:title={'center':'status'}>,\n",
       "        <AxesSubplot:title={'center':'ts'}>],\n",
       "       [<AxesSubplot:title={'center':'churn'}>,\n",
       "        <AxesSubplot:title={'center':'day_time'}>,\n",
       "        <AxesSubplot:title={'center':'gender_num'}>],\n",
       "       [<AxesSubplot:title={'center':'level_num'}>, <AxesSubplot:>,\n",
       "        <AxesSubplot:>]], dtype=object)"
      ]
     },
     "execution_count": 74,
     "metadata": {},
     "output_type": "execute_result"
    },
    {
     "data": {
      "image/png": "[encoded data removed]",
      "text/plain": [
       "<Figure size 1080x1080 with 12 Axes>"
      ]
     },
     "metadata": {
      "needs_background": "light"
     },
     "output_type": "display_data"
    }
   ],
   "source": [
    "df_withchurn.toPandas().hist(figsize=(15,15), bins=15)"
   ]
  },
  {
   "cell_type": "markdown",
   "metadata": {},
   "source": [
    "### *1.Expore Gender*"
   ]
  },
  {
   "cell_type": "code",
   "execution_count": 26,
   "metadata": {},
   "outputs": [],
   "source": [
    "df_churn = df_withchurn.dropDuplicates([\"userId\"]).groupby([\"churn\"]).count().withColumnRenamed(\"count\", \"churncount\")\n",
    "get_Freq = udf(lambda x,y : (x/y)*100)"
   ]
  },
  {
   "cell_type": "code",
   "execution_count": 27,
   "metadata": {
    "scrolled": true
   },
   "outputs": [
    {
     "name": "stdout",
     "output_type": "stream",
     "text": [
      "+-----+------+-----+\n",
      "|churn|gender|count|\n",
      "+-----+------+-----+\n",
      "|    0|     F|   84|\n",
      "|    0|     M|   89|\n",
      "|    1|     F|   20|\n",
      "|    1|     M|   32|\n",
      "+-----+------+-----+\n",
      "\n"
     ]
    }
   ],
   "source": [
    "df_withchurn.dropDuplicates([\"userId\", \"gender\"]).groupby([\"churn\", \"gender\"]).count().sort(\"churn\").show()"
   ]
  },
  {
   "cell_type": "code",
   "execution_count": 28,
   "metadata": {},
   "outputs": [],
   "source": [
    "df_g = df_withchurn.dropDuplicates([\"userId\", \"gender\"]).groupby([\"churn\", \"gender\"]).count().withColumnRenamed(\"count\", \"genderccount\")"
   ]
  },
  {
   "cell_type": "code",
   "execution_count": 29,
   "metadata": {},
   "outputs": [
    {
     "name": "stdout",
     "output_type": "stream",
     "text": [
      "+-----+------+------------+\n",
      "|churn|gender|genderccount|\n",
      "+-----+------+------------+\n",
      "|    1|     F|          20|\n",
      "|    0|     M|          89|\n",
      "|    1|     M|          32|\n",
      "|    0|     F|          84|\n",
      "+-----+------+------------+\n",
      "\n"
     ]
    }
   ],
   "source": [
    "df_g.show()"
   ]
  },
  {
   "cell_type": "code",
   "execution_count": 30,
   "metadata": {},
   "outputs": [
    {
     "name": "stdout",
     "output_type": "stream",
     "text": [
      "+-----+------+------------+----------+-----------+\n",
      "|churn|gender|genderccount|churncount|gender_Freq|\n",
      "+-----+------+------------+----------+-----------+\n",
      "|    0|     F|          84|       173|  48.554913|\n",
      "|    0|     M|          89|       173|  51.445087|\n",
      "|    1|     M|          32|        52|   61.53846|\n",
      "|    1|     F|          20|        52|   38.46154|\n",
      "+-----+------+------------+----------+-----------+\n",
      "\n"
     ]
    }
   ],
   "source": [
    "df_gendercount = df_g.join(df_churn, 'churn')\n",
    "df_gendercount.withColumn(\"gender_Freq\", get_Freq(df_gendercount.genderccount, df_gendercount.churncount).cast('float')).sort(\"churn\").show()"
   ]
  },
  {
   "cell_type": "code",
   "execution_count": 31,
   "metadata": {},
   "outputs": [
    {
     "data": {
      "image/png": "[encoded data removed]",
      "text/plain": [
       "<Figure size 432x288 with 1 Axes>"
      ]
     },
     "metadata": {
      "needs_background": "light"
     },
     "output_type": "display_data"
    }
   ],
   "source": [
    "pd_gender = df_gendercount.withColumn(\"gender_Freq\", get_Freq(df_gendercount.genderccount, df_gendercount.churncount).cast('float')).toPandas()\n",
    "sns.barplot(data=pd_gender, x='gender', y='gender_Freq', hue='churn');"
   ]
  },
  {
   "cell_type": "markdown",
   "metadata": {},
   "source": [
    "**Exploration conclusion**: Male customer churn rate is slightly higher than female customer"
   ]
  },
  {
   "cell_type": "markdown",
   "metadata": {},
   "source": [
    "### *2. Expore artist*"
   ]
  },
  {
   "cell_type": "code",
   "execution_count": 32,
   "metadata": {},
   "outputs": [
    {
     "name": "stdout",
     "output_type": "stream",
     "text": [
      "+-----+------+\n",
      "|churn| count|\n",
      "+-----+------+\n",
      "|    1| 44864|\n",
      "|    0|233290|\n",
      "+-----+------+\n",
      "\n"
     ]
    }
   ],
   "source": [
    "df_withchurn.groupby([\"churn\"]).count().show()"
   ]
  },
  {
   "cell_type": "code",
   "execution_count": 33,
   "metadata": {},
   "outputs": [
    {
     "name": "stdout",
     "output_type": "stream",
     "text": [
      "+-----+-----------+\n",
      "|churn|artistcount|\n",
      "+-----+-----------+\n",
      "|    0|      16653|\n",
      "|    1|       8403|\n",
      "+-----+-----------+\n",
      "\n"
     ]
    }
   ],
   "source": [
    "df_withchurn.dropDuplicates([\"churn\", \"artist\"]).groupby([\"churn\"]).count().withColumnRenamed(\"count\", \"artistcount\").sort(\"churn\").show()"
   ]
  },
  {
   "cell_type": "code",
   "execution_count": 34,
   "metadata": {},
   "outputs": [
    {
     "data": {
      "image/png": "[encoded data removed]",
      "text/plain": [
       "<Figure size 432x288 with 1 Axes>"
      ]
     },
     "metadata": {
      "needs_background": "light"
     },
     "output_type": "display_data"
    }
   ],
   "source": [
    "df_artist = df_withchurn.dropDuplicates([\"churn\", \"artist\"]).groupby([\"churn\"]).count().withColumnRenamed(\"count\", \"artistcount\").sort(\"churn\").toPandas()\n",
    "sns.barplot(x=\"churn\", y=\"artistcount\", data=df_artist);"
   ]
  },
  {
   "cell_type": "markdown",
   "metadata": {},
   "source": [
    "**Exploration conclusion**: The number of singers followed by lost users is significantly less than the number of singers followed by active accounts"
   ]
  },
  {
   "cell_type": "markdown",
   "metadata": {},
   "source": [
    "### *3.Expore Level*"
   ]
  },
  {
   "cell_type": "code",
   "execution_count": 35,
   "metadata": {},
   "outputs": [],
   "source": [
    "df_withchurn.createOrReplaceTempView(\"dftable\")\n",
    "df_level = spark.sql('''\n",
    "select\n",
    "userId, level,churn\n",
    "from(SELECT userId, level,churn, row_number() over(partition by userId order by ts desc) rank FROM dftable)\n",
    "where rank = 1\n",
    "order by userId\n",
    "'''\n",
    ")"
   ]
  },
  {
   "cell_type": "code",
   "execution_count": 36,
   "metadata": {},
   "outputs": [
    {
     "name": "stdout",
     "output_type": "stream",
     "text": [
      "+-----+-----+-----+\n",
      "|level|churn|count|\n",
      "+-----+-----+-----+\n",
      "| paid|    0|  114|\n",
      "| free|    0|   59|\n",
      "| paid|    1|   31|\n",
      "| free|    1|   21|\n",
      "+-----+-----+-----+\n",
      "\n"
     ]
    }
   ],
   "source": [
    "df_level.groupby([\"level\",\"churn\"]).count().show()"
   ]
  },
  {
   "cell_type": "code",
   "execution_count": 37,
   "metadata": {},
   "outputs": [],
   "source": [
    "df_l = df_level.groupby([\"level\",\"churn\"]).count().withColumnRenamed(\"count\", \"levelccount\")"
   ]
  },
  {
   "cell_type": "code",
   "execution_count": 38,
   "metadata": {},
   "outputs": [
    {
     "name": "stdout",
     "output_type": "stream",
     "text": [
      "+-----+-----+-----------+----------+----------+\n",
      "|churn|level|levelccount|churncount|level_Freq|\n",
      "+-----+-----+-----------+----------+----------+\n",
      "|    0| paid|        114|       173|  65.89595|\n",
      "|    0| free|         59|       173| 34.104046|\n",
      "|    1| free|         21|        52| 40.384617|\n",
      "|    1| paid|         31|        52| 59.615383|\n",
      "+-----+-----+-----------+----------+----------+\n",
      "\n"
     ]
    }
   ],
   "source": [
    "df_levelcount = df_l.join(df_churn, 'churn')\n",
    "df_levelcount.withColumn(\"level_Freq\", get_Freq(df_levelcount.levelccount, df_levelcount.churncount).cast('float')).sort(\"churn\").show()"
   ]
  },
  {
   "cell_type": "code",
   "execution_count": 39,
   "metadata": {},
   "outputs": [],
   "source": [
    "pd_level = df_levelcount.withColumn(\"level_Freq\", get_Freq(df_levelcount.levelccount, df_levelcount.churncount).cast('float')).toPandas()"
   ]
  },
  {
   "cell_type": "code",
   "execution_count": 40,
   "metadata": {},
   "outputs": [
    {
     "data": {
      "image/png": "[encoded data removed]",
      "text/plain": [
       "<Figure size 432x288 with 1 Axes>"
      ]
     },
     "metadata": {
      "needs_background": "light"
     },
     "output_type": "display_data"
    }
   ],
   "source": [
    "sns.barplot(data=pd_level, x='level', y='level_Freq', hue='churn');"
   ]
  },
  {
   "cell_type": "markdown",
   "metadata": {},
   "source": [
    "**Exploration conclusion**: The customer churn is more in the paid state, and the customer churn in the paid state is less, so it can be used as a feature column"
   ]
  },
  {
   "cell_type": "markdown",
   "metadata": {},
   "source": [
    "### *4.Expore Page*"
   ]
  },
  {
   "cell_type": "code",
   "execution_count": 41,
   "metadata": {},
   "outputs": [],
   "source": [
    "df_page = spark.sql('''\n",
    "select \n",
    "t1.page, \n",
    "t1.churn,\n",
    "t1.pc_count/(t2.p_count*t3.c_count) Freq\n",
    "from (SELECT \n",
    "          page, churn,\n",
    "          count(page) pc_count      \n",
    "          FROM dftable \n",
    "          where page not in (\"Cancel\",\"Cancellation Confirmation\")\n",
    "          group by page, churn) t1\n",
    "left join (SELECT \n",
    "          page,\n",
    "          count(page) p_count      \n",
    "          FROM dftable \n",
    "          where page not in (\"Cancel\",\"Cancellation Confirmation\")\n",
    "          group by page) t2 on t1.page = t2.page\n",
    "left join (SELECT churn,\n",
    "          count(page) c_count      \n",
    "          FROM dftable \n",
    "          where page not in (\"Cancel\",\"Cancellation Confirmation\")\n",
    "          group by churn) t3 on t1.churn = t3.churn\n",
    "'''\n",
    ")"
   ]
  },
  {
   "cell_type": "code",
   "execution_count": 42,
   "metadata": {},
   "outputs": [
    {
     "data": {
      "image/png": "[encoded data removed]",
      "text/plain": [
       "<Figure size 1080x576 with 1 Axes>"
      ]
     },
     "metadata": {
      "needs_background": "light"
     },
     "output_type": "display_data"
    }
   ],
   "source": [
    "pd_page=df_page.toPandas()\n",
    "plt.figure(figsize=[15,8])\n",
    "sns.barplot(data=pd_page, x='page', y='Freq', hue='churn');\n",
    "plt.xticks(rotation=45);"
   ]
  },
  {
   "cell_type": "markdown",
   "metadata": {},
   "source": [
    "As shown in the figure above, the ratio of lost customers and active customers on the Submit Downgrade, Thumbs Down, Downgrade, Roll Advert, Upgrade, and Submit Downgrade pages is quite different"
   ]
  },
  {
   "cell_type": "markdown",
   "metadata": {},
   "source": [
    "### *5.Expore SessionId*"
   ]
  },
  {
   "cell_type": "code",
   "execution_count": 43,
   "metadata": {},
   "outputs": [
    {
     "name": "stdout",
     "output_type": "stream",
     "text": [
      "+-----+------+\n",
      "|churn| count|\n",
      "+-----+------+\n",
      "|    1| 44864|\n",
      "|    0|233290|\n",
      "+-----+------+\n",
      "\n"
     ]
    }
   ],
   "source": [
    "df_withchurn.select([\"churn\", \"sessionId\"]).groupby(\"churn\").count().show()"
   ]
  },
  {
   "cell_type": "code",
   "execution_count": 44,
   "metadata": {},
   "outputs": [
    {
     "name": "stdout",
     "output_type": "stream",
     "text": [
      "+-----+------+\n",
      "|churn| count|\n",
      "+-----+------+\n",
      "|    1| 44864|\n",
      "|    0|233290|\n",
      "+-----+------+\n",
      "\n"
     ]
    }
   ],
   "source": [
    "df_withchurn.select([\"churn\", \"sessionId\"]).groupby(\"churn\").count().show()"
   ]
  },
  {
   "cell_type": "code",
   "execution_count": 45,
   "metadata": {
    "scrolled": true
   },
   "outputs": [
    {
     "name": "stdout",
     "output_type": "stream",
     "text": [
      "+-----+------+\n",
      "|churn| count|\n",
      "+-----+------+\n",
      "|    1| 44864|\n",
      "|    0|233290|\n",
      "+-----+------+\n",
      "\n"
     ]
    }
   ],
   "source": [
    "df_withchurn.select([\"churn\", \"sessionId\"]).groupby(\"churn\").count().show()"
   ]
  },
  {
   "cell_type": "markdown",
   "metadata": {},
   "source": [
    "**Exploration conclusion**: The average number of sessions for the sessionId of lost customers and active customers is quite different"
   ]
  },
  {
   "cell_type": "markdown",
   "metadata": {},
   "source": [
    "### *6.Expore songs*"
   ]
  },
  {
   "cell_type": "markdown",
   "metadata": {},
   "source": [
    "I hope to observe the trend of the number of lost users and active users listening to songs per day in the two months of October and November, and then analyze whether the characteristics of the number of songs listened to each day are very different between lost users and active users. When converting the 'ts' column into a time in days, I hope to count the songs that users listen to every day in groups of days, but when converting the time, only the day is taken alone, and the month is ignored. At that time, I wanted to use interception The function to the month, but the feature \"time\" that comes out does not meet the needs of visualization, so the month and day are intercepted and added up."
   ]
  },
  {
   "cell_type": "code",
   "execution_count": 46,
   "metadata": {},
   "outputs": [],
   "source": [
    "get_time = udf(lambda x: datetime.datetime.fromtimestamp(x / 1000.0).strftime(\"%Y-%m-%d\"))\n",
    "get_month = udf(lambda x: datetime.datetime.fromtimestamp(x / 1000.0). month, IntegerType())\n",
    "get_day = udf(lambda x: datetime.datetime.fromtimestamp(x / 1000.0). day, IntegerType())\n",
    "df_withchurn = df_withchurn.withColumn(\"time\", get_time(df_withchurn.ts))                                                                              \n",
    "df_withchurn = df_withchurn.withColumn(\"day_time\", get_month(df_withchurn.ts)*31+get_day(df_withchurn.ts)-310)"
   ]
  },
  {
   "cell_type": "code",
   "execution_count": 47,
   "metadata": {},
   "outputs": [],
   "source": [
    "df_d = df_withchurn.filter(df_withchurn.page==\"NextSong\").groupby([\"churn\", \"day_time\"]).count().sort('day_time','churn').withColumnRenamed(\"count\", \"songccount\")"
   ]
  },
  {
   "cell_type": "code",
   "execution_count": 48,
   "metadata": {},
   "outputs": [
    {
     "name": "stdout",
     "output_type": "stream",
     "text": [
      "+-----+----------+\n",
      "|churn|churncount|\n",
      "+-----+----------+\n",
      "|    1|        52|\n",
      "|    0|       173|\n",
      "+-----+----------+\n",
      "\n"
     ]
    }
   ],
   "source": [
    "df_churn.show()"
   ]
  },
  {
   "cell_type": "code",
   "execution_count": 58,
   "metadata": {},
   "outputs": [],
   "source": [
    "get_song = udf(lambda x,y : (x/y))\n",
    "df_song = df_d.join(df_churn, 'churn')"
   ]
  },
  {
   "cell_type": "code",
   "execution_count": 59,
   "metadata": {},
   "outputs": [
    {
     "name": "stdout",
     "output_type": "stream",
     "text": [
      "+-----+--------+----------+----------+---------+\n",
      "|churn|day_time|songccount|churncount|song_Freq|\n",
      "+-----+--------+----------+----------+---------+\n",
      "|    1|      60|       163|        52|313.46155|\n",
      "|    1|      56|       135|        52| 259.6154|\n",
      "|    1|      55|       199|        52|382.69232|\n",
      "|    1|      54|       153|        52|294.23077|\n",
      "|    1|      52|        45|        52| 86.53846|\n",
      "|    1|      51|        15|        52|28.846153|\n",
      "|    1|      50|        86|        52|165.38461|\n",
      "|    1|      49|         9|        52|17.307692|\n",
      "|    1|      48|        44|        52| 84.61539|\n",
      "|    1|      47|       436|        52|838.46155|\n",
      "|    1|      46|       251|        52|482.69232|\n",
      "|    1|      45|       374|        52| 719.2308|\n",
      "|    1|      44|       244|        52|469.23077|\n",
      "|    1|      43|        84|        52|161.53847|\n",
      "|    1|      42|       479|        52| 921.1539|\n",
      "|    1|      41|       636|        52|1223.0769|\n",
      "|    1|      40|       115|        52|221.15384|\n",
      "|    1|      39|       325|        52|    625.0|\n",
      "|    1|      38|       517|        52| 994.2308|\n",
      "|    1|      37|       274|        52| 526.9231|\n",
      "+-----+--------+----------+----------+---------+\n",
      "only showing top 20 rows\n",
      "\n"
     ]
    }
   ],
   "source": [
    "df_song.withColumn(\"song_Freq\", get_Freq(df_song.songccount, df_song.churncount).cast('float')).show()"
   ]
  },
  {
   "cell_type": "code",
   "execution_count": 60,
   "metadata": {},
   "outputs": [],
   "source": [
    "song_pd = df_song.withColumn(\"song_Freq\", get_Freq(df_song.songccount, df_song.churncount).cast('float')).sort('day_time').toPandas()"
   ]
  },
  {
   "cell_type": "code",
   "execution_count": 61,
   "metadata": {},
   "outputs": [
    {
     "data": {
      "image/png": "[encoded data removed]",
      "text/plain": [
       "<matplotlib.figure.Figure at 0x26c418e6f98>"
      ]
     },
     "metadata": {
      "needs_background": "light"
     },
     "output_type": "display_data"
    }
   ],
   "source": [
    "plt.figure(figsize=[20,10])\n",
    "sns.barplot(data=song_pd , x='churn', y='song_Freq', hue='day_time',palette=sns.color_palette(\"hls\"));\n",
    "plt.legend(ncol=2);"
   ]
  },
  {
   "cell_type": "code",
   "execution_count": 77,
   "metadata": {},
   "outputs": [
    {
     "data": {
      "text/plain": [
       "churn\n",
       "0    3043.079365\n",
       "1     649.892857\n",
       "Name: songccount, dtype: float64"
      ]
     },
     "execution_count": 77,
     "metadata": {},
     "output_type": "execute_result"
    }
   ],
   "source": [
    "song_pd.groupby('churn')['songccount'].mean()"
   ]
  },
  {
   "cell_type": "markdown",
   "metadata": {},
   "source": [
    "**Exploration conclusion**: The difference in the number of active users and lost users listening to songs per day is obvious, which can be used as a feature column"
   ]
  },
  {
   "cell_type": "markdown",
   "metadata": {},
   "source": [
    "# Feature Engineering"
   ]
  },
  {
   "cell_type": "code",
   "execution_count": 49,
   "metadata": {},
   "outputs": [],
   "source": [
    "df_withchurn = df_withchurn.replace([\"M\", \"F\"],[\"0\", \"1\"], \"gender\")\n",
    "df_withchurn = df_withchurn.replace([\"free\", \"paid\"], [\"0\", \"1\"], \"level\")"
   ]
  },
  {
   "cell_type": "code",
   "execution_count": 50,
   "metadata": {},
   "outputs": [],
   "source": [
    "df_withchurn = df_withchurn.withColumn(\"gender_num\", df_withchurn.gender.cast('int'))\n",
    "df_withchurn = df_withchurn.withColumn(\"level_num\", df_withchurn.level.cast('int'))"
   ]
  },
  {
   "cell_type": "code",
   "execution_count": 51,
   "metadata": {},
   "outputs": [
    {
     "data": {
      "text/plain": [
       "278154"
      ]
     },
     "execution_count": 51,
     "metadata": {},
     "output_type": "execute_result"
    }
   ],
   "source": [
    "df_withchurn.count()"
   ]
  },
  {
   "cell_type": "code",
   "execution_count": 52,
   "metadata": {},
   "outputs": [],
   "source": [
    "get_time = udf(lambda x: datetime.datetime.fromtimestamp(x / 1000.0).strftime(\"%Y-%m-%d\"))\n",
    "get_month = udf(lambda x: datetime.datetime.fromtimestamp(x / 1000.0). month, IntegerType())\n",
    "get_day = udf(lambda x: datetime.datetime.fromtimestamp(x / 1000.0). day, IntegerType())\n",
    "df_withchurn = df_withchurn.withColumn(\"time\", get_time(df_withchurn.ts))                                                                              \n",
    "df_withchurn = df_withchurn.withColumn(\"day_time\", get_month(df_withchurn.ts)*31+get_day(df_withchurn.ts)-310)"
   ]
  },
  {
   "cell_type": "code",
   "execution_count": 82,
   "metadata": {},
   "outputs": [
    {
     "name": "stdout",
     "output_type": "stream",
     "text": [
      "+----------+--------+-----+\n",
      "|      time|day_time|count|\n",
      "+----------+--------+-----+\n",
      "|2018-10-01|       1| 2337|\n",
      "|2018-10-02|       2| 4402|\n",
      "|2018-10-03|       3| 4503|\n",
      "|2018-10-04|       4| 4530|\n",
      "|2018-10-05|       5| 4521|\n",
      "|2018-10-06|       6| 3964|\n",
      "|2018-10-07|       7| 3133|\n",
      "|2018-10-08|       8| 3820|\n",
      "|2018-10-09|       9| 5493|\n",
      "|2018-10-10|      10| 5818|\n",
      "|2018-10-11|      11| 6500|\n",
      "|2018-10-12|      12| 5459|\n",
      "|2018-10-13|      13| 3464|\n",
      "|2018-10-14|      14| 2867|\n",
      "|2018-10-15|      15| 4259|\n",
      "|2018-10-16|      16| 5077|\n",
      "|2018-10-17|      17| 6275|\n",
      "|2018-10-18|      18| 4618|\n",
      "|2018-10-19|      19| 5626|\n",
      "|2018-10-20|      20| 6188|\n",
      "|2018-10-21|      21| 3722|\n",
      "|2018-10-22|      22| 4271|\n",
      "|2018-10-23|      23| 4075|\n",
      "|2018-10-24|      24| 5550|\n",
      "|2018-10-25|      25| 5642|\n",
      "|2018-10-26|      26| 4078|\n",
      "|2018-10-27|      27| 4271|\n",
      "|2018-10-28|      28| 2535|\n",
      "|2018-10-29|      29| 3929|\n",
      "|2018-10-30|      30| 6324|\n",
      "|2018-10-31|      31| 5693|\n",
      "|2018-11-01|      32| 6028|\n",
      "|2018-11-02|      33| 7813|\n",
      "|2018-11-03|      34| 5309|\n",
      "|2018-11-04|      35| 2812|\n",
      "|2018-11-05|      36| 3342|\n",
      "|2018-11-06|      37| 3892|\n",
      "|2018-11-07|      38| 5179|\n",
      "|2018-11-08|      39| 3625|\n",
      "|2018-11-09|      40| 5837|\n",
      "|2018-11-10|      41| 3679|\n",
      "|2018-11-11|      42| 3113|\n",
      "|2018-11-12|      43| 2706|\n",
      "|2018-11-13|      44| 5183|\n",
      "|2018-11-14|      45| 4341|\n",
      "|2018-11-15|      46| 4425|\n",
      "|2018-11-16|      47| 6358|\n",
      "|2018-11-17|      48| 3069|\n",
      "|2018-11-18|      49| 2454|\n",
      "|2018-11-19|      50| 3336|\n",
      "|2018-11-20|      51| 5285|\n",
      "|2018-11-21|      52| 6001|\n",
      "|2018-11-22|      53| 4180|\n",
      "|2018-11-23|      54| 4637|\n",
      "|2018-11-24|      55| 3772|\n",
      "|2018-11-25|      56| 2981|\n",
      "|2018-11-26|      57| 4428|\n",
      "|2018-11-27|      58| 6163|\n",
      "|2018-11-28|      59| 5565|\n",
      "|2018-11-29|      60| 3800|\n",
      "|2018-11-30|      61| 4180|\n",
      "|2018-12-01|      63| 1716|\n",
      "|2018-12-03|      65|    1|\n",
      "+----------+--------+-----+\n",
      "\n"
     ]
    }
   ],
   "source": [
    "df_withchurn.groupby('time','day_time').count().sort('time').show(100)"
   ]
  },
  {
   "cell_type": "code",
   "execution_count": 53,
   "metadata": {},
   "outputs": [],
   "source": [
    "df_withchurn =  df_withchurn.filter((df_withchurn.time!='2018-12-01'))"
   ]
  },
  {
   "cell_type": "code",
   "execution_count": 54,
   "metadata": {},
   "outputs": [
    {
     "data": {
      "text/plain": [
       "DataFrame[artist: string, auth: string, firstName: string, gender: string, itemInSession: bigint, lastName: string, length: double, level: string, location: string, method: string, page: string, registration: bigint, sessionId: bigint, song: string, status: bigint, ts: bigint, userAgent: string, userId: string, churn: int, time: string, day_time: int, gender_num: int, level_num: int]"
      ]
     },
     "execution_count": 54,
     "metadata": {},
     "output_type": "execute_result"
    }
   ],
   "source": [
    "df_withchurn"
   ]
  },
  {
   "cell_type": "code",
   "execution_count": 55,
   "metadata": {},
   "outputs": [],
   "source": [
    "df_withchurn.createOrReplaceTempView(\"dftable\")"
   ]
  },
  {
   "cell_type": "markdown",
   "metadata": {},
   "source": [
    "Feature 1:**gender**--user gender\n",
    "\n",
    "Feature 2: **artistcount**--the number of singers the user follows\n",
    "\n",
    "Feature 3: **leve**l--whether the user pays for the last state\n",
    "\n",
    "Feature 4: **regtime** -- the number of days since the user registered\n",
    "\n",
    "Feature 5: **se_avg** - user sessionId average number of meetings\n",
    "\n",
    "Feature 6: **freq_Roll_Advert**--- How often users use the Roll_Adver page\n",
    "\n",
    "Feature 7: **freq_Submit_Upgrade**-- how often users use the Submit_Upgrade page\n",
    "\n",
    "Feature 8: **freq_Upgrade**-- how often users use the Submit Downgrade page\n",
    "\n",
    "Feature 9: **freq_Submit Downgrade**-- how often users use the Upgrade page\n",
    "\n",
    "Feature 10: **freq_Thumbs Down**-- how often users use the Thumbs Down page\n",
    "\n",
    "Feature 11: **freq_Downgrade**-- how often users use the Downgrade page\n",
    "\n",
    "Feature 12: **songs_per_count**--the average number of songs the user listens to per day\n",
    "\n",
    "Feature 13: **time_per_day**--the average daily active time of users"
   ]
  },
  {
   "cell_type": "code",
   "execution_count": 56,
   "metadata": {},
   "outputs": [],
   "source": [
    "df_feature1 = spark.sql('''\n",
    "select \n",
    "t1.userId,\n",
    "t1.gender, \n",
    "t1.artistcount,\n",
    "t2.level,\n",
    "t1.regtime,\n",
    "t3.se_avg,\n",
    "t4.Roll_Advert_count/t4.page_count freq_Roll_Advert,\n",
    "t4.Submit_Upgrade_count/t4.page_count freq_Submit_Upgrade,\n",
    "t4.Upgrade_count/t4.page_count freq_Upgrade,\n",
    "t4.Submit_Downgrade_count/t4.page_count freq_Submit_Downgrade,\n",
    "t4.Thumbs_Down_count/t4.page_count freq_Thumbs_Down, \n",
    "t4.Downgrade_count/t4.page_count freq_Downgrade,\n",
    "t5.songs_per_count, \n",
    "t5.time_per_day,\n",
    "t1.churn\n",
    "\n",
    "from  (SELECT \n",
    "          userId,\n",
    "          max(distinct gender_num) gender,\n",
    "          count(distinct artist) artistcount,\n",
    "          max(ts)-max(registration) regtime,\n",
    "          max(distinct churn) churn\n",
    "          \n",
    "          FROM dftable \n",
    "          group by userId) t1\n",
    "          \n",
    "left join(select userId, level_num level\n",
    "                      from(SELECT userId, level_num,\n",
    "                      row_number() over(partition by userId order by time desc) rank\n",
    "                      FROM dftable)\n",
    "                      where rank = 1\n",
    "          order by userId) t2 on t1.userId = t2.userId\n",
    "          \n",
    "left join(select userId, mean(se_num)  se_avg\n",
    "          from(SELECT userId, sessionId, count(sessionId) se_num\n",
    "                  FROM dftable\n",
    "                  group by userId, sessionId)\n",
    "          group by userId) t3 on t1.userId = t3.userId\n",
    "\n",
    "left join(SELECT \n",
    "          userId,\n",
    "          count(case when \n",
    "                page = \"Roll Advert\" \n",
    "                then page\n",
    "                end) Roll_Advert_count,  \n",
    "          count(case when \n",
    "                page = \"Submit Upgrade\"   \n",
    "                then page\n",
    "                end) Submit_Upgrade_count,\n",
    "          count(case when \n",
    "                page = \"Upgrade\"   \n",
    "                then page\n",
    "                end) Upgrade_count,\n",
    "          count(case when \n",
    "                page = \"Submit Downgrade\" \n",
    "                then page\n",
    "                end) Submit_Downgrade_count, \n",
    "          count(case when \n",
    "                page = \"Thumbs Down\"   \n",
    "                then page\n",
    "                end) Thumbs_Down_count, \n",
    "          count(case when \n",
    "                page = \"Downgrade\"   \n",
    "                then page\n",
    "                end) Downgrade_count,\n",
    "          count(page) page_count\n",
    "                \n",
    "          FROM dftable \n",
    "          where page not in (\"Cancel\",\"Cancellation Confirmation\")\n",
    "          group by userId) t4 on t1.userId = t4.userId\n",
    "\n",
    "left join(select \n",
    "           userId,\n",
    "          avg(songs_count) songs_per_count, \n",
    "          avg(time_day) time_per_day\n",
    "\n",
    "          from  (SELECT \n",
    "                    userId,\n",
    "                    day_time,\n",
    "                    count(song) songs_count,\n",
    "                    max(ts) -min(ts) time_day\n",
    "          \n",
    "                    FROM dftable \n",
    "                    where page =\"NextSong\"\n",
    "                    group by userId, day_time)\n",
    "          group by userId) t5 on t1.userId = t5.userId\n",
    "          '''\n",
    "          )"
   ]
  },
  {
   "cell_type": "code",
   "execution_count": 57,
   "metadata": {},
   "outputs": [],
   "source": [
    "feature1_pd = df_feature1.toPandas()"
   ]
  },
  {
   "cell_type": "code",
   "execution_count": 88,
   "metadata": {},
   "outputs": [
    {
     "data": {
      "text/html": [
       "<div>\n",
       "<style>\n",
       "    .dataframe thead tr:only-child th {\n",
       "        text-align: right;\n",
       "    }\n",
       "\n",
       "    .dataframe thead th {\n",
       "        text-align: left;\n",
       "    }\n",
       "\n",
       "    .dataframe tbody tr th {\n",
       "        vertical-align: top;\n",
       "    }\n",
       "</style>\n",
       "<table border=\"1\" class=\"dataframe\">\n",
       "  <thead>\n",
       "    <tr style=\"text-align: right;\">\n",
       "      <th></th>\n",
       "      <th>userId</th>\n",
       "      <th>gender</th>\n",
       "      <th>artistcount</th>\n",
       "      <th>level</th>\n",
       "      <th>regtime</th>\n",
       "      <th>se_avg</th>\n",
       "      <th>freq_Roll_Advert</th>\n",
       "      <th>freq_Submit_Upgrade</th>\n",
       "      <th>freq_Upgrade</th>\n",
       "      <th>freq_Submit_Downgrade</th>\n",
       "      <th>freq_Thumbs_Down</th>\n",
       "      <th>freq_Downgrade</th>\n",
       "      <th>songs_per_count</th>\n",
       "      <th>time_per_day</th>\n",
       "      <th>churn</th>\n",
       "    </tr>\n",
       "  </thead>\n",
       "  <tbody>\n",
       "    <tr>\n",
       "      <th>0</th>\n",
       "      <td>100010</td>\n",
       "      <td>1</td>\n",
       "      <td>252</td>\n",
       "      <td>0</td>\n",
       "      <td>4807612000</td>\n",
       "      <td>54.428571</td>\n",
       "      <td>0.136483</td>\n",
       "      <td>0.000000</td>\n",
       "      <td>0.005249</td>\n",
       "      <td>0.000000</td>\n",
       "      <td>0.013123</td>\n",
       "      <td>0.000000</td>\n",
       "      <td>30.555556</td>\n",
       "      <td>7.136889e+06</td>\n",
       "      <td>0</td>\n",
       "    </tr>\n",
       "    <tr>\n",
       "      <th>1</th>\n",
       "      <td>200002</td>\n",
       "      <td>0</td>\n",
       "      <td>339</td>\n",
       "      <td>1</td>\n",
       "      <td>6054448000</td>\n",
       "      <td>79.000000</td>\n",
       "      <td>0.014768</td>\n",
       "      <td>0.002110</td>\n",
       "      <td>0.004219</td>\n",
       "      <td>0.000000</td>\n",
       "      <td>0.012658</td>\n",
       "      <td>0.010549</td>\n",
       "      <td>55.285714</td>\n",
       "      <td>1.357714e+07</td>\n",
       "      <td>0</td>\n",
       "    </tr>\n",
       "    <tr>\n",
       "      <th>2</th>\n",
       "      <td>125</td>\n",
       "      <td>0</td>\n",
       "      <td>8</td>\n",
       "      <td>0</td>\n",
       "      <td>6161779000</td>\n",
       "      <td>11.000000</td>\n",
       "      <td>0.111111</td>\n",
       "      <td>0.000000</td>\n",
       "      <td>0.000000</td>\n",
       "      <td>0.000000</td>\n",
       "      <td>0.000000</td>\n",
       "      <td>0.000000</td>\n",
       "      <td>8.000000</td>\n",
       "      <td>1.762000e+06</td>\n",
       "      <td>1</td>\n",
       "    </tr>\n",
       "    <tr>\n",
       "      <th>3</th>\n",
       "      <td>124</td>\n",
       "      <td>1</td>\n",
       "      <td>2232</td>\n",
       "      <td>1</td>\n",
       "      <td>11366431000</td>\n",
       "      <td>166.379310</td>\n",
       "      <td>0.000829</td>\n",
       "      <td>0.000000</td>\n",
       "      <td>0.000000</td>\n",
       "      <td>0.000000</td>\n",
       "      <td>0.008497</td>\n",
       "      <td>0.008497</td>\n",
       "      <td>113.305556</td>\n",
       "      <td>3.008839e+07</td>\n",
       "      <td>0</td>\n",
       "    </tr>\n",
       "    <tr>\n",
       "      <th>4</th>\n",
       "      <td>51</td>\n",
       "      <td>0</td>\n",
       "      <td>1385</td>\n",
       "      <td>1</td>\n",
       "      <td>1680985000</td>\n",
       "      <td>246.400000</td>\n",
       "      <td>0.000000</td>\n",
       "      <td>0.000000</td>\n",
       "      <td>0.000000</td>\n",
       "      <td>0.000000</td>\n",
       "      <td>0.008530</td>\n",
       "      <td>0.009342</td>\n",
       "      <td>175.916667</td>\n",
       "      <td>5.267108e+07</td>\n",
       "      <td>1</td>\n",
       "    </tr>\n",
       "    <tr>\n",
       "      <th>5</th>\n",
       "      <td>7</td>\n",
       "      <td>0</td>\n",
       "      <td>142</td>\n",
       "      <td>0</td>\n",
       "      <td>6288035000</td>\n",
       "      <td>28.714286</td>\n",
       "      <td>0.079602</td>\n",
       "      <td>0.000000</td>\n",
       "      <td>0.009950</td>\n",
       "      <td>0.000000</td>\n",
       "      <td>0.004975</td>\n",
       "      <td>0.000000</td>\n",
       "      <td>18.750000</td>\n",
       "      <td>4.546250e+06</td>\n",
       "      <td>0</td>\n",
       "    </tr>\n",
       "    <tr>\n",
       "      <th>6</th>\n",
       "      <td>15</td>\n",
       "      <td>0</td>\n",
       "      <td>1302</td>\n",
       "      <td>1</td>\n",
       "      <td>4882773000</td>\n",
       "      <td>151.866667</td>\n",
       "      <td>0.000439</td>\n",
       "      <td>0.000000</td>\n",
       "      <td>0.000000</td>\n",
       "      <td>0.000000</td>\n",
       "      <td>0.006146</td>\n",
       "      <td>0.012291</td>\n",
       "      <td>95.700000</td>\n",
       "      <td>3.300535e+07</td>\n",
       "      <td>0</td>\n",
       "    </tr>\n",
       "    <tr>\n",
       "      <th>7</th>\n",
       "      <td>54</td>\n",
       "      <td>1</td>\n",
       "      <td>1744</td>\n",
       "      <td>1</td>\n",
       "      <td>9568946000</td>\n",
       "      <td>92.891892</td>\n",
       "      <td>0.013683</td>\n",
       "      <td>0.000291</td>\n",
       "      <td>0.000291</td>\n",
       "      <td>0.000291</td>\n",
       "      <td>0.008443</td>\n",
       "      <td>0.011354</td>\n",
       "      <td>91.645161</td>\n",
       "      <td>3.602013e+07</td>\n",
       "      <td>1</td>\n",
       "    </tr>\n",
       "    <tr>\n",
       "      <th>8</th>\n",
       "      <td>155</td>\n",
       "      <td>1</td>\n",
       "      <td>643</td>\n",
       "      <td>1</td>\n",
       "      <td>2035240000</td>\n",
       "      <td>167.000000</td>\n",
       "      <td>0.007984</td>\n",
       "      <td>0.000998</td>\n",
       "      <td>0.001996</td>\n",
       "      <td>0.000000</td>\n",
       "      <td>0.002994</td>\n",
       "      <td>0.011976</td>\n",
       "      <td>117.142857</td>\n",
       "      <td>2.812043e+07</td>\n",
       "      <td>0</td>\n",
       "    </tr>\n",
       "    <tr>\n",
       "      <th>9</th>\n",
       "      <td>100014</td>\n",
       "      <td>0</td>\n",
       "      <td>233</td>\n",
       "      <td>1</td>\n",
       "      <td>7351206000</td>\n",
       "      <td>51.666667</td>\n",
       "      <td>0.006494</td>\n",
       "      <td>0.000000</td>\n",
       "      <td>0.000000</td>\n",
       "      <td>0.000000</td>\n",
       "      <td>0.009740</td>\n",
       "      <td>0.009740</td>\n",
       "      <td>28.555556</td>\n",
       "      <td>7.014333e+06</td>\n",
       "      <td>1</td>\n",
       "    </tr>\n",
       "  </tbody>\n",
       "</table>\n",
       "</div>"
      ],
      "text/plain": [
       "   userId  gender  artistcount  level      regtime      se_avg  \\\n",
       "0  100010       1          252      0   4807612000   54.428571   \n",
       "1  200002       0          339      1   6054448000   79.000000   \n",
       "2     125       0            8      0   6161779000   11.000000   \n",
       "3     124       1         2232      1  11366431000  166.379310   \n",
       "4      51       0         1385      1   1680985000  246.400000   \n",
       "5       7       0          142      0   6288035000   28.714286   \n",
       "6      15       0         1302      1   4882773000  151.866667   \n",
       "7      54       1         1744      1   9568946000   92.891892   \n",
       "8     155       1          643      1   2035240000  167.000000   \n",
       "9  100014       0          233      1   7351206000   51.666667   \n",
       "\n",
       "   freq_Roll_Advert  freq_Submit_Upgrade  freq_Upgrade  freq_Submit_Downgrade  \\\n",
       "0          0.136483             0.000000      0.005249               0.000000   \n",
       "1          0.014768             0.002110      0.004219               0.000000   \n",
       "2          0.111111             0.000000      0.000000               0.000000   \n",
       "3          0.000829             0.000000      0.000000               0.000000   \n",
       "4          0.000000             0.000000      0.000000               0.000000   \n",
       "5          0.079602             0.000000      0.009950               0.000000   \n",
       "6          0.000439             0.000000      0.000000               0.000000   \n",
       "7          0.013683             0.000291      0.000291               0.000291   \n",
       "8          0.007984             0.000998      0.001996               0.000000   \n",
       "9          0.006494             0.000000      0.000000               0.000000   \n",
       "\n",
       "   freq_Thumbs_Down  freq_Downgrade  songs_per_count  time_per_day  churn  \n",
       "0          0.013123        0.000000        30.555556  7.136889e+06      0  \n",
       "1          0.012658        0.010549        55.285714  1.357714e+07      0  \n",
       "2          0.000000        0.000000         8.000000  1.762000e+06      1  \n",
       "3          0.008497        0.008497       113.305556  3.008839e+07      0  \n",
       "4          0.008530        0.009342       175.916667  5.267108e+07      1  \n",
       "5          0.004975        0.000000        18.750000  4.546250e+06      0  \n",
       "6          0.006146        0.012291        95.700000  3.300535e+07      0  \n",
       "7          0.008443        0.011354        91.645161  3.602013e+07      1  \n",
       "8          0.002994        0.011976       117.142857  2.812043e+07      0  \n",
       "9          0.009740        0.009740        28.555556  7.014333e+06      1  "
      ]
     },
     "execution_count": 88,
     "metadata": {},
     "output_type": "execute_result"
    }
   ],
   "source": [
    "feature1_pd.head(10)"
   ]
  },
  {
   "cell_type": "code",
   "execution_count": 89,
   "metadata": {},
   "outputs": [
    {
     "name": "stdout",
     "output_type": "stream",
     "text": [
      "+----------+--------+-----+\n",
      "|      time|day_time|count|\n",
      "+----------+--------+-----+\n",
      "|2018-10-01|       1| 2337|\n",
      "|2018-10-02|       2| 4402|\n",
      "|2018-10-03|       3| 4503|\n",
      "|2018-10-04|       4| 4530|\n",
      "|2018-10-05|       5| 4521|\n",
      "|2018-10-06|       6| 3964|\n",
      "|2018-10-07|       7| 3133|\n",
      "|2018-10-08|       8| 3820|\n",
      "|2018-10-09|       9| 5493|\n",
      "|2018-10-10|      10| 5818|\n",
      "|2018-10-11|      11| 6500|\n",
      "|2018-10-12|      12| 5459|\n",
      "|2018-10-13|      13| 3464|\n",
      "|2018-10-14|      14| 2867|\n",
      "|2018-10-15|      15| 4259|\n",
      "|2018-10-16|      16| 5077|\n",
      "|2018-10-17|      17| 6275|\n",
      "|2018-10-18|      18| 4618|\n",
      "|2018-10-19|      19| 5626|\n",
      "|2018-10-20|      20| 6188|\n",
      "|2018-10-21|      21| 3722|\n",
      "|2018-10-22|      22| 4271|\n",
      "|2018-10-23|      23| 4075|\n",
      "|2018-10-24|      24| 5550|\n",
      "|2018-10-25|      25| 5642|\n",
      "|2018-10-26|      26| 4078|\n",
      "|2018-10-27|      27| 4271|\n",
      "|2018-10-28|      28| 2535|\n",
      "|2018-10-29|      29| 3929|\n",
      "|2018-10-30|      30| 6324|\n",
      "|2018-10-31|      31| 5693|\n",
      "|2018-11-01|      32| 6028|\n",
      "|2018-11-02|      33| 7813|\n",
      "|2018-11-03|      34| 5309|\n",
      "|2018-11-04|      35| 2812|\n",
      "|2018-11-05|      36| 3342|\n",
      "|2018-11-06|      37| 3892|\n",
      "|2018-11-07|      38| 5179|\n",
      "|2018-11-08|      39| 3625|\n",
      "|2018-11-09|      40| 5837|\n",
      "|2018-11-10|      41| 3679|\n",
      "|2018-11-11|      42| 3113|\n",
      "|2018-11-12|      43| 2706|\n",
      "|2018-11-13|      44| 5183|\n",
      "|2018-11-14|      45| 4341|\n",
      "|2018-11-15|      46| 4425|\n",
      "|2018-11-16|      47| 6358|\n",
      "|2018-11-17|      48| 3069|\n",
      "|2018-11-18|      49| 2454|\n",
      "|2018-11-19|      50| 3336|\n",
      "|2018-11-20|      51| 5285|\n",
      "|2018-11-21|      52| 6001|\n",
      "|2018-11-22|      53| 4180|\n",
      "|2018-11-23|      54| 4637|\n",
      "|2018-11-24|      55| 3772|\n",
      "|2018-11-25|      56| 2981|\n",
      "|2018-11-26|      57| 4428|\n",
      "|2018-11-27|      58| 6163|\n",
      "|2018-11-28|      59| 5565|\n",
      "|2018-11-29|      60| 3800|\n",
      "|2018-11-30|      61| 4180|\n",
      "|2018-12-03|      65|    1|\n",
      "+----------+--------+-----+\n",
      "\n"
     ]
    }
   ],
   "source": [
    "df_withchurn.groupby('time','day_time').count().sort('time').show(300)"
   ]
  },
  {
   "cell_type": "markdown",
   "metadata": {},
   "source": [
    "# Modeling\n",
    "Divide the full dataset into train, test, and validation sets. Test out several machine learning methods you've learned. Evaluate the accuracy of different machine learning methods and adjust parameters according to the situation. You pick the best model based on accuracy and report the results on the training set. Because the data set of lost customers is small, and F1 score is selected as the optimization metric"
   ]
  },
  {
   "cell_type": "code",
   "execution_count": 58,
   "metadata": {},
   "outputs": [
    {
     "data": {
      "text/plain": [
       "DataFrame[userId: string, gender: int, artistcount: bigint, level: int, regtime: bigint, se_avg: double, freq_Roll_Advert: double, freq_Submit_Upgrade: double, freq_Upgrade: double, freq_Submit_Downgrade: double, freq_Thumbs_Down: double, freq_Downgrade: double, songs_per_count: double, time_per_day: double, churn: int]"
      ]
     },
     "execution_count": 58,
     "metadata": {},
     "output_type": "execute_result"
    }
   ],
   "source": [
    "df_feature1.persist()"
   ]
  },
  {
   "cell_type": "code",
   "execution_count": 91,
   "metadata": {},
   "outputs": [
    {
     "name": "stdout",
     "output_type": "stream",
     "text": [
      "+-----+-----+\n",
      "|churn|count|\n",
      "+-----+-----+\n",
      "|    1|   52|\n",
      "|    0|  173|\n",
      "+-----+-----+\n",
      "\n"
     ]
    }
   ],
   "source": [
    "df_feature1.groupby(\"churn\").count().show()"
   ]
  },
  {
   "cell_type": "code",
   "execution_count": 59,
   "metadata": {},
   "outputs": [],
   "source": [
    "path1 = \"mini_churn_data.csv\""
   ]
  },
  {
   "cell_type": "code",
   "execution_count": 60,
   "metadata": {},
   "outputs": [],
   "source": [
    "df_feature1.repartition(1).write.save(path1, format=\"csv\", header=True)"
   ]
  },
  {
   "cell_type": "code",
   "execution_count": 61,
   "metadata": {},
   "outputs": [
    {
     "data": {
      "text/plain": [
       "DataFrame[userId: string, gender: string, artistcount: string, level: string, regtime: string, se_avg: string, freq_Roll_Advert: string, freq_Submit_Upgrade: string, freq_Upgrade: string, freq_Submit_Downgrade: string, freq_Thumbs_Down: string, freq_Downgrade: string, songs_per_count: string, time_per_day: string, churn: string]"
      ]
     },
     "execution_count": 61,
     "metadata": {},
     "output_type": "execute_result"
    }
   ],
   "source": [
    "df_model = spark.read.csv(path1, header=True)\n",
    "df_model.persist()"
   ]
  },
  {
   "cell_type": "code",
   "execution_count": 62,
   "metadata": {},
   "outputs": [],
   "source": [
    "num_features_list = df_model.columns[1:]\n",
    "for f in num_features_list:\n",
    "    f_name = f + \"_num\"\n",
    "    df_model = df_model.withColumn(f_name, df_model[f].cast(\"float\"))\n",
    "    df_model = df_model.drop(f)"
   ]
  },
  {
   "cell_type": "code",
   "execution_count": 63,
   "metadata": {},
   "outputs": [
    {
     "data": {
      "text/plain": [
       "DataFrame[userId: string, gender_num: float, artistcount_num: float, level_num: float, regtime_num: float, se_avg_num: float, freq_Roll_Advert_num: float, freq_Submit_Upgrade_num: float, freq_Upgrade_num: float, freq_Submit_Downgrade_num: float, freq_Thumbs_Down_num: float, freq_Downgrade_num: float, songs_per_count_num: float, time_per_day_num: float, churn_num: float]"
      ]
     },
     "execution_count": 63,
     "metadata": {},
     "output_type": "execute_result"
    }
   ],
   "source": [
    "df_model.persist()"
   ]
  },
  {
   "cell_type": "markdown",
   "metadata": {},
   "source": [
    "### Create a Vector"
   ]
  },
  {
   "cell_type": "code",
   "execution_count": 64,
   "metadata": {},
   "outputs": [],
   "source": [
    "assembler = VectorAssembler(inputCols=df_model.columns[1:-1], outputCol=\"NumFeatures\")\n",
    "data = assembler.transform(df_model)"
   ]
  },
  {
   "cell_type": "markdown",
   "metadata": {},
   "source": [
    "### Scaling Features"
   ]
  },
  {
   "cell_type": "code",
   "execution_count": 65,
   "metadata": {},
   "outputs": [],
   "source": [
    "scaler = StandardScaler(inputCol=\"NumFeatures\", outputCol=\"ScaledNumFeatures\", withStd=True)\n",
    "scalerModel = scaler.fit(data)\n",
    "data = scalerModel.transform(data)"
   ]
  },
  {
   "cell_type": "code",
   "execution_count": 66,
   "metadata": {},
   "outputs": [
    {
     "data": {
      "text/plain": [
       "DataFrame[userId: string, gender_num: float, artistcount_num: float, level_num: float, regtime_num: float, se_avg_num: float, freq_Roll_Advert_num: float, freq_Submit_Upgrade_num: float, freq_Upgrade_num: float, freq_Submit_Downgrade_num: float, freq_Thumbs_Down_num: float, freq_Downgrade_num: float, songs_per_count_num: float, time_per_day_num: float, churn_num: float, NumFeatures: vector, ScaledNumFeatures: vector]"
      ]
     },
     "execution_count": 66,
     "metadata": {},
     "output_type": "execute_result"
    }
   ],
   "source": [
    "data.persist()"
   ]
  },
  {
   "cell_type": "code",
   "execution_count": 67,
   "metadata": {},
   "outputs": [],
   "source": [
    "data1 = data.select(col(\"churn_num\").alias(\"label\"), col(\"ScaledNumFeatures\").alias(\"features\"))"
   ]
  },
  {
   "cell_type": "code",
   "execution_count": 68,
   "metadata": {},
   "outputs": [
    {
     "name": "stdout",
     "output_type": "stream",
     "text": [
      "+-----+--------------------+\n",
      "|label|            features|\n",
      "+-----+--------------------+\n",
      "|  0.0|[2.00127105192366...|\n",
      "|  0.0|[0.0,0.5635679955...|\n",
      "|  1.0|(13,[1,3,4,5,11,1...|\n",
      "|  0.0|[2.00127105192366...|\n",
      "|  1.0|[0.0,2.3024828136...|\n",
      "|  0.0|[0.0,0.2360668299...|\n",
      "|  0.0|[0.0,2.1645000890...|\n",
      "|  1.0|[2.00127105192366...|\n",
      "|  0.0|[2.00127105192366...|\n",
      "|  1.0|[0.0,0.3873490942...|\n",
      "|  0.0|[2.00127105192366...|\n",
      "|  0.0|(13,[0,1,3,4,5,11...|\n",
      "|  1.0|[0.0,2.0630910986...|\n",
      "|  0.0|[2.00127105192366...|\n",
      "|  0.0|[0.0,2.1246014698...|\n",
      "|  0.0|[2.00127105192366...|\n",
      "|  1.0|[0.0,0.3441255901...|\n",
      "|  1.0|[0.0,2.9990462063...|\n",
      "|  0.0|[2.00127105192366...|\n",
      "|  0.0|[0.0,0.3241762806...|\n",
      "+-----+--------------------+\n",
      "only showing top 20 rows\n",
      "\n"
     ]
    }
   ],
   "source": [
    "#new\n",
    "data1.show()"
   ]
  },
  {
   "cell_type": "markdown",
   "metadata": {},
   "source": [
    "### Sub-experimental and test data"
   ]
  },
  {
   "cell_type": "code",
   "execution_count": 69,
   "metadata": {},
   "outputs": [],
   "source": [
    "train, validation = data1.randomSplit([0.8, 0.2], seed=42)\n",
    "train = train.cache()"
   ]
  },
  {
   "cell_type": "code",
   "execution_count": 70,
   "metadata": {},
   "outputs": [
    {
     "name": "stdout",
     "output_type": "stream",
     "text": [
      "+-----+--------------------+\n",
      "|label|            features|\n",
      "+-----+--------------------+\n",
      "|  0.0|(13,[0,1,2,3,4,11...|\n",
      "|  0.0|(13,[0,1,2,3,4,11...|\n",
      "|  0.0|(13,[0,1,3,4,5,11...|\n",
      "|  0.0|(13,[0,1,3,4,5,11...|\n",
      "|  0.0|(13,[0,1,3,4,5,11...|\n",
      "|  0.0|(13,[1,2,3,4,9,11...|\n",
      "|  0.0|(13,[1,3,4,5,7,11...|\n",
      "|  0.0|(13,[1,3,4,5,9,11...|\n",
      "|  0.0|(13,[1,3,4,5,9,11...|\n",
      "|  0.0|(13,[1,3,4,5,9,11...|\n",
      "|  0.0|(13,[1,3,4,5,9,11...|\n",
      "|  0.0|(13,[1,3,4,5,11,1...|\n",
      "|  0.0|(13,[1,3,4,5,11,1...|\n",
      "|  0.0|(13,[1,3,4,5,11,1...|\n",
      "|  0.0|(13,[1,3,4,5,11,1...|\n",
      "|  0.0|(13,[1,3,4,5,11,1...|\n",
      "|  0.0|(13,[1,3,4,5,11,1...|\n",
      "|  0.0|[0.0,0.0615103711...|\n",
      "|  0.0|[0.0,0.2360668299...|\n",
      "|  0.0|[0.0,0.2377292724...|\n",
      "+-----+--------------------+\n",
      "only showing top 20 rows\n",
      "\n"
     ]
    }
   ],
   "source": [
    "train.show()"
   ]
  },
  {
   "cell_type": "markdown",
   "metadata": {},
   "source": [
    "## Model 1 - Logistic Regression"
   ]
  },
  {
   "cell_type": "code",
   "execution_count": 36,
   "metadata": {},
   "outputs": [],
   "source": [
    "lrs =  LogisticRegression()\n",
    "paramGrid = ParamGridBuilder() \\\n",
    "    .addGrid(lrs.elasticNetParam,[0.0, 0.5, 1.0]) \\\n",
    "    .addGrid(lrs.regParam,[0.01, 0.1]) \\\n",
    "    .addGrid(lrs.aggregationDepth,[2, 5]) \\\n",
    "    .build()\n",
    "\n",
    "crossval_lrs = CrossValidator(estimator=lrs,\n",
    "                          estimatorParamMaps=paramGrid,\n",
    "                          evaluator=MulticlassClassificationEvaluator(),\n",
    "                          numFolds=3)"
   ]
  },
  {
   "cell_type": "code",
   "execution_count": 37,
   "metadata": {},
   "outputs": [
    {
     "data": {
      "text/plain": [
       "[0.7706345938714102,\n",
       " 0.7706345938714102,\n",
       " 0.7305668181946918,\n",
       " 0.7305668181946918,\n",
       " 0.7756185246112259,\n",
       " 0.7756185246112259,\n",
       " 0.6790953215808185,\n",
       " 0.6790953215808185,\n",
       " 0.7679284074683725,\n",
       " 0.7679284074683725,\n",
       " 0.6790953215808185,\n",
       " 0.6790953215808185]"
      ]
     },
     "execution_count": 37,
     "metadata": {},
     "output_type": "execute_result"
    }
   ],
   "source": [
    "#Train the model with the train data  \n",
    "Model_lrs = crossval_lrs.fit(train)\n",
    "Model_lrs.avgMetrics  #The accuracy of the model for each parameter combination"
   ]
  },
  {
   "cell_type": "markdown",
   "metadata": {},
   "source": [
    "## Model 2 - Decision Tree"
   ]
  },
  {
   "cell_type": "code",
   "execution_count": 71,
   "metadata": {},
   "outputs": [],
   "source": [
    "dts = DecisionTreeClassifier()\n",
    "paramGrid = ParamGridBuilder() \\\n",
    "    .addGrid(dts.impurity,['entropy', 'gini']) \\\n",
    "    .addGrid(dts.maxDepth,[3, 4, 5, 6, 7, 8]) \\\n",
    "    .build()\n",
    "crossval_dts = CrossValidator(estimator=dts,\n",
    "                          estimatorParamMaps=paramGrid,\n",
    "                          evaluator=MulticlassClassificationEvaluator(),\n",
    "                          numFolds=3)"
   ]
  },
  {
   "cell_type": "code",
   "execution_count": 72,
   "metadata": {},
   "outputs": [
    {
     "data": {
      "text/plain": [
       "[0.724504447857406,\n",
       " 0.7224765428148826,\n",
       " 0.7250428314592698,\n",
       " 0.7130109167399149,\n",
       " 0.7090036873089567,\n",
       " 0.7127163588182382,\n",
       " 0.7323962212312691,\n",
       " 0.7421945593763474,\n",
       " 0.7089917674739835,\n",
       " 0.7028656618763465,\n",
       " 0.6982894879311711,\n",
       " 0.6982894879311711]"
      ]
     },
     "execution_count": 72,
     "metadata": {},
     "output_type": "execute_result"
    }
   ],
   "source": [
    "#Train the model with the train data 5\n",
    "cvModel_dts = crossval_dts.fit(train)\n",
    "cvModel_dts.avgMetrics #The accuracy of the model for each parameter combination"
   ]
  },
  {
   "cell_type": "markdown",
   "metadata": {},
   "source": [
    "## Model 3 - Gradient Boosted Tree（GBT）"
   ]
  },
  {
   "cell_type": "code",
   "execution_count": 38,
   "metadata": {},
   "outputs": [],
   "source": [
    "gbts = GBTClassifier()\n",
    "paramGrid = ParamGridBuilder() \\\n",
    "    .addGrid(gbts.maxIter,[5, 20]) \\\n",
    "    .addGrid(gbts.maxDepth,[2, 4, 8]) \\\n",
    "    .addGrid(gbts.maxBins ,[10, 5]) \\\n",
    "    .build()\n",
    "crossval_gbts = CrossValidator(estimator=gbts,\n",
    "                          estimatorParamMaps=paramGrid,\n",
    "                          evaluator=MulticlassClassificationEvaluator(),\n",
    "                          numFolds=3)"
   ]
  },
  {
   "cell_type": "code",
   "execution_count": 39,
   "metadata": {},
   "outputs": [
    {
     "data": {
      "text/plain": [
       "[0.7540425181151524,\n",
       " 0.7500600692291767,\n",
       " 0.7454196961592902,\n",
       " 0.780793382616118,\n",
       " 0.7128855151605772,\n",
       " 0.7413916440200884,\n",
       " 0.7841967933487018,\n",
       " 0.7831336937583105,\n",
       " 0.7487596945325394,\n",
       " 0.7800044680906968,\n",
       " 0.7071079276716559,\n",
       " 0.7437983702906121]"
      ]
     },
     "execution_count": 39,
     "metadata": {},
     "output_type": "execute_result"
    }
   ],
   "source": [
    "#train the model with train data\n",
    "Model_gbt = crossval_gbts.fit(train)\n",
    "Model_gbt.avgMetrics"
   ]
  },
  {
   "cell_type": "markdown",
   "metadata": {},
   "source": [
    "## Model 4 - Random Forest"
   ]
  },
  {
   "cell_type": "code",
   "execution_count": 41,
   "metadata": {},
   "outputs": [],
   "source": [
    "# The Random Forest model\n",
    "rfc = RandomForestClassifier()\n",
    "param_grid = ParamGridBuilder() \\\n",
    "    .addGrid(rfc.maxDepth,[5, 10]) \\\n",
    "    .addGrid(rfc.impurity,['entropy', 'gini']) \\\n",
    "    .addGrid(rfc.maxBins ,[10, 5]) \\\n",
    "    .addGrid(rfc.numTrees ,[20, 10]) \\\n",
    "    .addGrid(rfc.featureSubsetStrategy ,['sqrt', 'onethird']) \\\n",
    "    .build()\n",
    "\n",
    "crossval_rfc = CrossValidator(estimator=rfc,\n",
    "                          estimatorParamMaps=paramGrid,\n",
    "                          evaluator=MulticlassClassificationEvaluator(),\n",
    "                          numFolds=3)"
   ]
  },
  {
   "cell_type": "code",
   "execution_count": 42,
   "metadata": {},
   "outputs": [
    {
     "data": {
      "text/plain": [
       "[0.7754144722980008,\n",
       " 0.7754144722980008,\n",
       " 0.7754144722980008,\n",
       " 0.7754144722980008,\n",
       " 0.7754144722980008,\n",
       " 0.7754144722980008,\n",
       " 0.7754144722980008,\n",
       " 0.7754144722980008,\n",
       " 0.7754144722980008,\n",
       " 0.7754144722980008,\n",
       " 0.7754144722980008,\n",
       " 0.7754144722980008]"
      ]
     },
     "execution_count": 42,
     "metadata": {},
     "output_type": "execute_result"
    }
   ],
   "source": [
    "Model_rfc = crossval_rfc.fit(train)\n",
    "Model_rfc.avgMetrics"
   ]
  },
  {
   "cell_type": "markdown",
   "metadata": {},
   "source": [
    "### Evaluate the best model by F1 score using validation data"
   ]
  },
  {
   "cell_type": "markdown",
   "metadata": {},
   "source": [
    "Introduction to the principle of F1-score---F1 Score (F1 Score), is an indicator used in statistics to measure the accuracy of a two-class (or multi-task two-class) model. The F1 score can be regarded as a weighted average of model precision and recall. Its maximum value is 1 and the minimum value is 0. The larger the value, the better the model. If there are 100 samples, including 1 positive sample and 99 negative samples, if the prediction of the model only outputs 0, then the correct rate is 99%. At this time, it is obviously wrong to use the correct rate to measure the quality of the model. Both LogisticRegression() and GBTClassifier() belong to classification models, and the F1 score can take into account the accuracy and recall of the classification model at the same time"
   ]
  },
  {
   "cell_type": "code",
   "execution_count": 34,
   "metadata": {},
   "outputs": [],
   "source": [
    "def get_model_metrics(model,data,):\n",
    "    metrics = []\n",
    "    predict = model.transform(data)\n",
    "    tp = predict.filter(\"label = 1 and prediction = 1\").count()\n",
    "    fp = predict.filter(\"label = 0 and prediction = 1\").count()\n",
    "    fn = predict.filter(\"label = 1 and prediction = 0\").count()\n",
    "    n =  predict.count()\n",
    "    accuracy = (n -(fp +fn))/n\n",
    "    precision = tp / (tp + fp) \n",
    "    recall = tp / (tp + fn)\n",
    "    f1 = 2*precision*recall / (precision+recall)\n",
    "    metrics.append(accuracy)\n",
    "    metrics.append(precision)\n",
    "    metrics.append(recall)\n",
    "    metrics.append(f1)\n",
    "    metrics_names = ['accuracy', 'precision', 'recall', 'f1score']\n",
    "    dfmetrics = pd.DataFrame(metrics,index=metrics_names)\n",
    "    return dfmetrics"
   ]
  },
  {
   "cell_type": "code",
   "execution_count": 45,
   "metadata": {},
   "outputs": [],
   "source": [
    "lrs_train = get_model_metrics(Model_lrs,train)\n",
    "lrs_validation = get_model_metrics(Model_lrs,validation)\n",
    "rfc_train = get_model_metrics(Model_rfc,train)\n",
    "rfc_validation = get_model_metrics(Model_rfc,validation)\n",
    "gbt_train = get_model_metrics(Model_gbt,train)\n",
    "gbt_validation = get_model_metrics(Model_gbt,validation)\n",
    "dts_train = get_model_metrics(cvModel_dts,train)\n",
    "dts_validation = get_model_metrics(cvModel_dts,validation)"
   ]
  },
  {
   "cell_type": "code",
   "execution_count": 47,
   "metadata": {},
   "outputs": [
    {
     "data": {
      "text/html": [
       "<div>\n",
       "<style scoped>\n",
       "    .dataframe tbody tr th:only-of-type {\n",
       "        vertical-align: middle;\n",
       "    }\n",
       "\n",
       "    .dataframe tbody tr th {\n",
       "        vertical-align: top;\n",
       "    }\n",
       "\n",
       "    .dataframe thead th {\n",
       "        text-align: right;\n",
       "    }\n",
       "</style>\n",
       "<table border=\"1\" class=\"dataframe\">\n",
       "  <thead>\n",
       "    <tr style=\"text-align: right;\">\n",
       "      <th></th>\n",
       "      <th>Mode_lrs_train</th>\n",
       "      <th>Mode_lrs_validation</th>\n",
       "      <th>Mode_rfc_train</th>\n",
       "      <th>Mode_rfc_validation</th>\n",
       "      <th>Mode_gbt_train</th>\n",
       "      <th>Mode_gbt_validation</th>\n",
       "      <th>Mode_dts_train</th>\n",
       "      <th>Mode_dts_validation</th>\n",
       "    </tr>\n",
       "  </thead>\n",
       "  <tbody>\n",
       "    <tr>\n",
       "      <th>accuracy</th>\n",
       "      <td>0.835227</td>\n",
       "      <td>0.781250</td>\n",
       "      <td>0.883523</td>\n",
       "      <td>0.802083</td>\n",
       "      <td>0.857955</td>\n",
       "      <td>0.770833</td>\n",
       "      <td>0.877841</td>\n",
       "      <td>0.781250</td>\n",
       "    </tr>\n",
       "    <tr>\n",
       "      <th>precision</th>\n",
       "      <td>0.806452</td>\n",
       "      <td>0.571429</td>\n",
       "      <td>1.000000</td>\n",
       "      <td>0.666667</td>\n",
       "      <td>0.935484</td>\n",
       "      <td>0.500000</td>\n",
       "      <td>0.886364</td>\n",
       "      <td>0.533333</td>\n",
       "    </tr>\n",
       "    <tr>\n",
       "      <th>recall</th>\n",
       "      <td>0.324675</td>\n",
       "      <td>0.181818</td>\n",
       "      <td>0.467532</td>\n",
       "      <td>0.272727</td>\n",
       "      <td>0.376623</td>\n",
       "      <td>0.318182</td>\n",
       "      <td>0.506494</td>\n",
       "      <td>0.363636</td>\n",
       "    </tr>\n",
       "    <tr>\n",
       "      <th>f1score</th>\n",
       "      <td>0.462963</td>\n",
       "      <td>0.275862</td>\n",
       "      <td>0.637168</td>\n",
       "      <td>0.387097</td>\n",
       "      <td>0.537037</td>\n",
       "      <td>0.388889</td>\n",
       "      <td>0.644628</td>\n",
       "      <td>0.432432</td>\n",
       "    </tr>\n",
       "  </tbody>\n",
       "</table>\n",
       "</div>"
      ],
      "text/plain": [
       "           Mode_lrs_train  Mode_lrs_validation  Mode_rfc_train  \\\n",
       "accuracy         0.835227             0.781250        0.883523   \n",
       "precision        0.806452             0.571429        1.000000   \n",
       "recall           0.324675             0.181818        0.467532   \n",
       "f1score          0.462963             0.275862        0.637168   \n",
       "\n",
       "           Mode_rfc_validation  Mode_gbt_train  Mode_gbt_validation  \\\n",
       "accuracy              0.802083        0.857955             0.770833   \n",
       "precision             0.666667        0.935484             0.500000   \n",
       "recall                0.272727        0.376623             0.318182   \n",
       "f1score               0.387097        0.537037             0.388889   \n",
       "\n",
       "           Mode_dts_train  Mode_dts_validation  \n",
       "accuracy         0.877841             0.781250  \n",
       "precision        0.886364             0.533333  \n",
       "recall           0.506494             0.363636  \n",
       "f1score          0.644628             0.432432  "
      ]
     },
     "execution_count": 47,
     "metadata": {},
     "output_type": "execute_result"
    }
   ],
   "source": [
    "df_metrics = pd.concat([lrs_train, lrs_validation,rfc_train, rfc_validation,gbt_train, gbt_validation,dts_train, dts_validation], axis=1)\n",
    "df_metrics.columns = ['Mode_lrs_train', 'Mode_lrs_validation', 'Mode_rfc_train', 'Mode_rfc_validation','Mode_gbt_train', 'Mode_gbt_validation','Mode_dts_train', 'Mode_dts_validation']\n",
    "df_metrics"
   ]
  },
  {
   "cell_type": "markdown",
   "metadata": {},
   "source": [
    "Conclusion analysis:\n",
    "\n",
    "I use f1score and AUC to evaluate the model. Experiments were performed on Logistic Regression, Decision Trees, Gradient Boosting, Random Forest classifiers. Decision tree classifiers perform best and are immune to data imbalance."
   ]
  },
  {
   "cell_type": "markdown",
   "metadata": {},
   "source": [
    "**in conclusion**:\n",
    "The machine learning model successfully predicted the activities that users were most likely to end up with unsubscribing. Although all four models performed well, the decision tree classifier model seemed to be the best. However, other models need to be retuned with different settings to reduce overfitting.\n",
    "It is important to us to accurately label customers as \"churn\". Because if we offer a free product, we may incur unnecessary costs, which may confuse users if they don't think about churn, or if we send a message about their reduced activity."
   ]
  },
  {
   "cell_type": "markdown",
   "metadata": {},
   "source": [
    "### *How to improve an existing implementation?*\n",
    "Although the current implementation has achieved good results, it is possible to improve the results by one or more of the following measures:\n",
    "\n",
    "1. Process more observations by increasing the dataset size\n",
    "\n",
    "2. Try more parameters of the selected model.\n",
    "\n",
    "3. Add important feature columns, such as the change in the number of songs a user listens to every day or the change slope of the online time. This may reflect that the activity of some users is gradually decreasing and gradually losing, and the visualization shown above also shows that the number of active users listening to songs increases steadily over time, and there is an upward trend, while the number of lost users listening to songs increases with time. The increase in time decreased significantly."
   ]
  },
  {
   "cell_type": "code",
   "execution_count": null,
   "metadata": {},
   "outputs": [],
   "source": [
    "spark.stop()"
   ]
  }
 ],
 "metadata": {
  "kernelspec": {
   "display_name": "Python 3 (ipykernel)",
   "language": "python",
   "name": "python3"
  },
  "language_info": {
   "codemirror_mode": {
    "name": "ipython",
    "version": 3
   },
   "file_extension": ".py",
   "mimetype": "text/x-python",
   "name": "python",
   "nbconvert_exporter": "python",
   "pygments_lexer": "ipython3",
   "version": "3.7.12"
  }
 },
 "nbformat": 4,
 "nbformat_minor": 2
}
